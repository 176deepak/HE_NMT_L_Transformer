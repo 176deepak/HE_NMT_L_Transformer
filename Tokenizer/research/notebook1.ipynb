{
 "cells": [
  {
   "cell_type": "code",
   "execution_count": 1,
   "id": "640aeab1-0f7c-4728-98eb-ca825be4e010",
   "metadata": {},
   "outputs": [
    {
     "name": "stderr",
     "output_type": "stream",
     "text": [
      "W:\\My_Work\\HE_NMT_Transformer\\.env\\Lib\\site-packages\\tqdm\\auto.py:21: TqdmWarning: IProgress not found. Please update jupyter and ipywidgets. See https://ipywidgets.readthedocs.io/en/stable/user_install.html\n",
      "  from .autonotebook import tqdm as notebook_tqdm\n"
     ]
    }
   ],
   "source": [
    "import os\n",
    "import pandas as pd\n",
    "import datasets as ds"
   ]
  },
  {
   "cell_type": "code",
   "execution_count": 3,
   "id": "4b0302aa-ed34-4a72-98a7-5adf7ca37783",
   "metadata": {},
   "outputs": [
    {
     "data": {
      "text/plain": [
       "['train', 'validation', 'test']"
      ]
     },
     "execution_count": 3,
     "metadata": {},
     "output_type": "execute_result"
    }
   ],
   "source": [
    "splits = ds.get_dataset_split_names('cfilt/iitb-english-hindi')\n",
    "splits"
   ]
  },
  {
   "cell_type": "code",
   "execution_count": 4,
   "id": "489c6e74-b4cc-4879-ae4e-0827c961f54a",
   "metadata": {},
   "outputs": [],
   "source": [
    "data = ds.load_dataset('cfilt/iitb-english-hindi')"
   ]
  },
  {
   "cell_type": "code",
   "execution_count": 5,
   "id": "bffd11b0-1b3c-40cf-ad11-e91e33bb703a",
   "metadata": {},
   "outputs": [
    {
     "data": {
      "text/plain": [
       "DatasetDict({\n",
       "    train: Dataset({\n",
       "        features: ['translation'],\n",
       "        num_rows: 1659083\n",
       "    })\n",
       "    validation: Dataset({\n",
       "        features: ['translation'],\n",
       "        num_rows: 520\n",
       "    })\n",
       "    test: Dataset({\n",
       "        features: ['translation'],\n",
       "        num_rows: 2507\n",
       "    })\n",
       "})"
      ]
     },
     "execution_count": 5,
     "metadata": {},
     "output_type": "execute_result"
    }
   ],
   "source": [
    "data"
   ]
  },
  {
   "cell_type": "code",
   "execution_count": 9,
   "id": "e9cfb633-6256-4bce-9834-371a499fda65",
   "metadata": {},
   "outputs": [
    {
     "data": {
      "text/html": [
       "<div>\n",
       "<style scoped>\n",
       "    .dataframe tbody tr th:only-of-type {\n",
       "        vertical-align: middle;\n",
       "    }\n",
       "\n",
       "    .dataframe tbody tr th {\n",
       "        vertical-align: top;\n",
       "    }\n",
       "\n",
       "    .dataframe thead th {\n",
       "        text-align: right;\n",
       "    }\n",
       "</style>\n",
       "<table border=\"1\" class=\"dataframe\">\n",
       "  <thead>\n",
       "    <tr style=\"text-align: right;\">\n",
       "      <th></th>\n",
       "      <th>en</th>\n",
       "      <th>hi</th>\n",
       "    </tr>\n",
       "  </thead>\n",
       "  <tbody>\n",
       "    <tr>\n",
       "      <th>0</th>\n",
       "      <td>Students of the Dattatreya city Municipal corp...</td>\n",
       "      <td>महानगर पालिका अंतर्गत दत्तात्रय नगर माध्यमिक स...</td>\n",
       "    </tr>\n",
       "    <tr>\n",
       "      <th>1</th>\n",
       "      <td>With encouragement from Principal Sandhya Medp...</td>\n",
       "      <td>प्रधानाध्यापक संध्या मेडपल्लीवार के प्रोत्साहि...</td>\n",
       "    </tr>\n",
       "    <tr>\n",
       "      <th>2</th>\n",
       "      <td>Rajesh Gavre, the President of the MNPA teache...</td>\n",
       "      <td>मनपा शिक्षक संघ के अध्यक्ष राजेश गवरे ने स्कूल...</td>\n",
       "    </tr>\n",
       "    <tr>\n",
       "      <th>3</th>\n",
       "      <td>Ramesh Saatpute examined the fort.</td>\n",
       "      <td>किले का परीक्षण रमेश सातपुते ने किया।</td>\n",
       "    </tr>\n",
       "    <tr>\n",
       "      <th>4</th>\n",
       "      <td>Students like Nikhil Kavle, Darshan Gedekar, S...</td>\n",
       "      <td>किला निर्माण में निखिल कावले, दर्शन गेड़ेकर, स...</td>\n",
       "    </tr>\n",
       "    <tr>\n",
       "      <th>...</th>\n",
       "      <td>...</td>\n",
       "      <td>...</td>\n",
       "    </tr>\n",
       "    <tr>\n",
       "      <th>515</th>\n",
       "      <td>The former Deputy Chief Minister, Narhari Amin...</td>\n",
       "      <td>विस चुनाव से पहले कांग्रेस छोड़ भाजपा में आए प...</td>\n",
       "    </tr>\n",
       "    <tr>\n",
       "      <th>516</th>\n",
       "      <td>This Ministry expansion is being seen as Modi'...</td>\n",
       "      <td>इस मंत्रिमंडल विस्तार को मोदी की लोकसभा चुनाव ...</td>\n",
       "    </tr>\n",
       "    <tr>\n",
       "      <th>517</th>\n",
       "      <td>He has been travelling around a lot to promote...</td>\n",
       "      <td>वह लंबे समय से राजनीतिक प्रवास कर रहे हैं।</td>\n",
       "    </tr>\n",
       "    <tr>\n",
       "      <th>518</th>\n",
       "      <td>After doing a tour of the five states, he will...</td>\n",
       "      <td>पांच राज्यों के विस चुनाव बाद और ज्यादा आक्राम...</td>\n",
       "    </tr>\n",
       "    <tr>\n",
       "      <th>519</th>\n",
       "      <td>In this way he wants to turn Guajrat into an i...</td>\n",
       "      <td>ऐसे में वह गुजरात के किले को पूरी तरह से अभेद ...</td>\n",
       "    </tr>\n",
       "  </tbody>\n",
       "</table>\n",
       "<p>520 rows × 2 columns</p>\n",
       "</div>"
      ],
      "text/plain": [
       "                                                    en  \\\n",
       "0    Students of the Dattatreya city Municipal corp...   \n",
       "1    With encouragement from Principal Sandhya Medp...   \n",
       "2    Rajesh Gavre, the President of the MNPA teache...   \n",
       "3                   Ramesh Saatpute examined the fort.   \n",
       "4    Students like Nikhil Kavle, Darshan Gedekar, S...   \n",
       "..                                                 ...   \n",
       "515  The former Deputy Chief Minister, Narhari Amin...   \n",
       "516  This Ministry expansion is being seen as Modi'...   \n",
       "517  He has been travelling around a lot to promote...   \n",
       "518  After doing a tour of the five states, he will...   \n",
       "519  In this way he wants to turn Guajrat into an i...   \n",
       "\n",
       "                                                    hi  \n",
       "0    महानगर पालिका अंतर्गत दत्तात्रय नगर माध्यमिक स...  \n",
       "1    प्रधानाध्यापक संध्या मेडपल्लीवार के प्रोत्साहि...  \n",
       "2    मनपा शिक्षक संघ के अध्यक्ष राजेश गवरे ने स्कूल...  \n",
       "3                किले का परीक्षण रमेश सातपुते ने किया।  \n",
       "4    किला निर्माण में निखिल कावले, दर्शन गेड़ेकर, स...  \n",
       "..                                                 ...  \n",
       "515  विस चुनाव से पहले कांग्रेस छोड़ भाजपा में आए प...  \n",
       "516  इस मंत्रिमंडल विस्तार को मोदी की लोकसभा चुनाव ...  \n",
       "517         वह लंबे समय से राजनीतिक प्रवास कर रहे हैं।  \n",
       "518  पांच राज्यों के विस चुनाव बाद और ज्यादा आक्राम...  \n",
       "519  ऐसे में वह गुजरात के किले को पूरी तरह से अभेद ...  \n",
       "\n",
       "[520 rows x 2 columns]"
      ]
     },
     "execution_count": 9,
     "metadata": {},
     "output_type": "execute_result"
    }
   ],
   "source": [
    "valid_data = data['validation']\n",
    "pd.DataFrame(valid_data['translation'])"
   ]
  },
  {
   "cell_type": "code",
   "execution_count": 10,
   "id": "1c3117cf-24ef-48d2-ad18-b2e7f2fa3020",
   "metadata": {},
   "outputs": [],
   "source": [
    "train_records = data['train']['translation']\n",
    "test_records = data['test']['translation']\n",
    "validation_records = data['validation']['translation']"
   ]
  },
  {
   "cell_type": "code",
   "execution_count": 11,
   "id": "8f163587-3972-4e49-8ccb-399b1e3329bd",
   "metadata": {},
   "outputs": [],
   "source": [
    "records = train_records + test_records + validation_records"
   ]
  },
  {
   "cell_type": "code",
   "execution_count": 12,
   "id": "c3ab9e59-bb5b-4908-8f6b-b928c7577cc6",
   "metadata": {},
   "outputs": [],
   "source": [
    "en_records = [rec['en']  for rec in records]\n",
    "hi_records = [rec['hi'] for rec in records]"
   ]
  },
  {
   "cell_type": "code",
   "execution_count": 19,
   "id": "b1f8a0f6-4a59-4840-b659-e25080dab1dd",
   "metadata": {},
   "outputs": [],
   "source": [
    "with open('en_corpus', 'w') as file:\n",
    "    for line in en_records[0:10]:\n",
    "        file.write(line + '\\n')"
   ]
  },
  {
   "cell_type": "code",
   "execution_count": 10,
   "id": "3dc6b746-179a-4d37-ad84-0c203e303348",
   "metadata": {},
   "outputs": [
    {
     "data": {
      "text/plain": [
       "dict_keys(['train', 'validation', 'test'])"
      ]
     },
     "execution_count": 10,
     "metadata": {},
     "output_type": "execute_result"
    }
   ],
   "source": [
    "data.keys()"
   ]
  },
  {
   "cell_type": "code",
   "execution_count": 11,
   "id": "73104f2f-ffec-4fa2-b04d-bc36455b055a",
   "metadata": {},
   "outputs": [
    {
     "data": {
      "text/plain": [
       "DatasetDict({\n",
       "    train: Dataset({\n",
       "        features: ['translation'],\n",
       "        num_rows: 1659083\n",
       "    })\n",
       "    validation: Dataset({\n",
       "        features: ['translation'],\n",
       "        num_rows: 520\n",
       "    })\n",
       "    test: Dataset({\n",
       "        features: ['translation'],\n",
       "        num_rows: 2507\n",
       "    })\n",
       "})"
      ]
     },
     "execution_count": 11,
     "metadata": {},
     "output_type": "execute_result"
    }
   ],
   "source": [
    "data"
   ]
  },
  {
   "cell_type": "code",
   "execution_count": null,
   "id": "d41ea3d5-ec5d-4771-910a-2792233a0196",
   "metadata": {},
   "outputs": [],
   "source": []
  }
 ],
 "metadata": {
  "kernelspec": {
   "display_name": "Python 3 (ipykernel)",
   "language": "python",
   "name": "python3"
  },
  "language_info": {
   "codemirror_mode": {
    "name": "ipython",
    "version": 3
   },
   "file_extension": ".py",
   "mimetype": "text/x-python",
   "name": "python",
   "nbconvert_exporter": "python",
   "pygments_lexer": "ipython3",
   "version": "3.12.3"
  }
 },
 "nbformat": 4,
 "nbformat_minor": 5
}
